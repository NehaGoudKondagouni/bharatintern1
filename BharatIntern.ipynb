{
  "nbformat": 4,
  "nbformat_minor": 0,
  "metadata": {
    "colab": {
      "provenance": []
    },
    "kernelspec": {
      "name": "python3",
      "display_name": "Python 3"
    },
    "language_info": {
      "name": "python"
    }
  },
  "cells": [
    {
      "cell_type": "code",
      "source": [
        "from sklearn.datasets import load_iris\n",
        "from sklearn.model_selection import train_test_split\n",
        "from sklearn.preprocessing import StandardScaler\n",
        "from sklearn.metrics import accuracy_score\n",
        "from sklearn.neural_network import MLPClassifier\n",
        "\n",
        "iris = load_iris()\n",
        "X = iris.data\n",
        "y = iris.target\n",
        "\n",
        "X_train, X_test, y_train, y_test = train_test_split(X, y, test_size=0.2, random_state=42)\n",
        "\n",
        "scaler = StandardScaler()\n",
        "X_train = scaler.fit_transform(X_train)\n",
        "X_test = scaler.transform(X_test)\n",
        "\n",
        "model = MLPClassifier(hidden_layer_sizes=(64, 32), activation='relu', solver='adam', max_iter=1000, random_state=42)\n",
        "\n",
        "model.fit(X_train, y_train)\n",
        "\n",
        "predictions = model.predict(X_test)\n",
        "\n",
        "accuracy = accuracy_score(y_test, predictions)\n",
        "print(f\"Accuracy: {accuracy}\")\n"
      ],
      "metadata": {
        "colab": {
          "base_uri": "https://localhost:8080/"
        },
        "id": "_cYmBDIgyB9l",
        "outputId": "a922b0bf-748a-4472-d4e1-e537aeb3e13d"
      },
      "execution_count": null,
      "outputs": [
        {
          "output_type": "stream",
          "name": "stdout",
          "text": [
            "Accuracy: 1.0\n"
          ]
        }
      ]
    },
    {
      "cell_type": "code",
      "source": [
        "import pandas as pd\n",
        "import numpy as np\n",
        "\n",
        "data = {\n",
        "    'Title': ['Movie A', 'Movie B', 'Movie C', 'Movie D', 'Movie E'],\n",
        "    'Genre': ['Action', 'Drama', 'Comedy', 'Action', 'Comedy'],\n",
        "    'User_ID': [1, 2, 1, 3, 2],\n",
        "    'Rating': [5, 4, 3, 4, 2]\n",
        "}\n",
        "\n",
        "ratings_df = pd.DataFrame(data)\n",
        "\n",
        "user_item_matrix = ratings_df.pivot(index='User_ID', columns='Title', values='Rating').fillna(0)\n",
        "\n",
        "user_similarity = np.dot(user_item_matrix, user_item_matrix.T) / (np.linalg.norm(user_item_matrix, axis=1)[:, None] * np.linalg.norm(user_item_matrix.T, axis=0))\n",
        "\n",
        "def recommend_movies(user_id, user_item_matrix, user_similarity, num_recommendations=3):\n",
        "    user_ratings = user_item_matrix.loc[user_id]\n",
        "\n",
        "    similar_users = user_similarity[user_id - 1].argsort()[::-1][1:]\n",
        "\n",
        "    unseen_movies = user_ratings[user_ratings == 0]\n",
        "\n",
        "    recommendations = {}\n",
        "    for similar_user in similar_users:\n",
        "        similar_user_ratings = user_item_matrix.iloc[similar_user]\n",
        "        for movie_title, rating in similar_user_ratings.items():\n",
        "            if movie_title in unseen_movies:\n",
        "                if movie_title not in recommendations:\n",
        "                    recommendations[movie_title] = rating\n",
        "                else:\n",
        "                    recommendations[movie_title] += rating\n",
        "\n",
        "    top_recommendations = sorted(recommendations.items(), key=lambda x: x[1], reverse=True)[:num_recommendations]\n",
        "    return top_recommendations\n",
        "\n",
        "target_user_id = 1\n",
        "recommendations = recommend_movies(target_user_id, user_item_matrix, user_similarity)\n",
        "\n",
        "print(f\"Top Recommendations for User {target_user_id}:\")\n",
        "for movie_title, rating in recommendations:\n",
        "    print(f\"Movie Title: {movie_title}, Estimated Rating: {rating}\")\n"
      ],
      "metadata": {
        "colab": {
          "base_uri": "https://localhost:8080/"
        },
        "id": "M6WVMSkb16cL",
        "outputId": "629c8b49-3217-4e1b-b5f2-95e663c9b8b8"
      },
      "execution_count": null,
      "outputs": [
        {
          "output_type": "stream",
          "name": "stdout",
          "text": [
            "Top Recommendations for User 1:\n",
            "Movie Title: Movie B, Estimated Rating: 4.0\n",
            "Movie Title: Movie D, Estimated Rating: 4.0\n",
            "Movie Title: Movie E, Estimated Rating: 2.0\n"
          ]
        }
      ]
    },
    {
      "cell_type": "code",
      "source": [],
      "metadata": {
        "id": "u8ysfHbS2euQ"
      },
      "execution_count": null,
      "outputs": []
    }
  ]
}